{
 "cells": [
  {
   "cell_type": "code",
   "execution_count": 1,
   "metadata": {
    "nbpresent": {
     "id": "0bcc87ac-feaf-48f4-a96f-19dc33749d84"
    }
   },
   "outputs": [
    {
     "name": "stderr",
     "output_type": "stream",
     "text": [
      "2020-05-20 16:04:21,710 - root - INFO - <module> - 20 - Analysing data for the following outlets: ['Shaikpet', 'Kondapur', 'Yousufguda', 'Gachibowli', 'Madhapur', 'Istahgrill Himayat Nagar']\n",
      "2020-05-20 16:04:21,728 - root - INFO - <module> - 28 - Loading item mapping and recipe data\n"
     ]
    }
   ],
   "source": [
    "import pandas as pd\n",
    "from datetime import datetime\n",
    "import os\n",
    "import logging\n",
    "import sys\n",
    "\n",
    "logging.basicConfig(\n",
    "    level=logging.INFO,\n",
    "    format = '%(asctime)s - %(name)s - %(levelname)s - %(funcName)s - %(lineno)d - %(message)s',\n",
    "    handlers=[logging.StreamHandler()]\n",
    ")\n",
    "\n",
    "pd.set_option('display.max_rows', 500)\n",
    "pd.set_option('display.max_columns', 500)\n",
    "pd.set_option('display.width', 1000)\n",
    "\n",
    "\n",
    "# List of restaurants\n",
    "rests = ['Shaikpet', 'Kondapur', 'Yousufguda', 'Gachibowli', 'Madhapur', 'Istahgrill Himayat Nagar']\n",
    "logging.info('Analysing data for the following outlets: {}'.format(rests))\n",
    "\n",
    "# Define output file locations\n",
    "sales_filename = 'output/sales_data.csv'\n",
    "orders_filename = 'output/orders_data.csv'\n",
    "consumption_filename = 'output/consumption_data.csv'\n",
    "\n",
    "# Load item mapping and recipe data\n",
    "logging.info(\"Loading item mapping and recipe data\")\n",
    "recipe_df = pd.read_csv('recipe.csv', index_col=0).fillna(0)\n",
    "item_mapping_df = pd.read_csv('item_mapping.csv')\n",
    "\n"
   ]
  },
  {
   "cell_type": "code",
   "execution_count": null,
   "metadata": {
    "nbpresent": {
     "id": "22c93bad-f37e-439d-a380-958f54b1fb96"
    },
    "scrolled": false
   },
   "outputs": [],
   "source": [
    "# Load orders file\n",
    "file = input('Enter orders file name: ')\n",
    "logging.info('Filename: {}'.format(file))\n",
    "\n",
    "data_df = pd.read_csv(file)\n",
    "data_df['Time'] = pd.to_datetime(data_df['Ordered time'].apply(lambda x: x.split(' +')[0]))\n",
    "start_date = min(data_df['Time'])\n",
    "end_date = max(data_df['Time'])\n",
    "logging.info('Given file - Minimum ordered time: {} | Maximum ordered time: {}'.format(start_date, end_date))\n",
    "logging.info('=== Choose your start and end times for analysis accordingly ===')"
   ]
  },
  {
   "cell_type": "code",
   "execution_count": null,
   "metadata": {
    "nbpresent": {
     "id": "74b844ef-822f-4752-9562-6275b0a7a9a4"
    }
   },
   "outputs": [],
   "source": [
    "start_time = input('Enter start_time (2019-01-31 08:00:00): ')\n",
    "end_time = input('Enter start_time (2019-01-31 11:59:59): ')\n",
    "logging.info('SELECTION: Start Time: {} | End Time: {}'.format(start_time, end_time))"
   ]
  },
  {
   "cell_type": "code",
   "execution_count": null,
   "metadata": {
    "nbpresent": {
     "id": "a85dfeb4-a8d5-46fa-ba3d-66da7c13bf41"
    }
   },
   "outputs": [],
   "source": [
    "if start_time > end_time:\n",
    "    logging.error('Start time ahead of end time. Kindly cross check start and end times.')\n"
   ]
  },
  {
   "cell_type": "code",
   "execution_count": null,
   "metadata": {},
   "outputs": [],
   "source": [
    "import psycopg2\n",
    "import pandas as pd\n",
    "import pytz\n",
    "import datetime\n",
    "import logging\n",
    "\n",
    "logging.basicConfig(\n",
    "    level=logging.INFO,\n",
    "    format = '%(asctime)s - %(name)s - %(levelname)s - %(funcName)s - %(lineno)d - %(message)s',\n",
    "    handlers=[logging.StreamHandler()]\n",
    ")\n",
    "\n",
    "start_time = input('Enter start time (2019-01-31 08:00:00): ')\n",
    "end_time = input('Enter end time (2019-01-31 11:59:59): ')\n",
    "logging.info('SELECTION: Start Time: {} | End Time: {}'.format(start_time, end_time))\n",
    "pd.set_option('display.max_rows', 500)\n",
    "pd.set_option('display.max_columns', 500)\n",
    "pd.set_option('display.width', 1000)\n",
    "\n",
    "if start_time > end_time:\n",
    "    logging.error('Start time ahead of end time. Kindly cross check start and end times.')\n",
    "    \n",
    "\n",
    "database = 'istah_production'\n",
    "username = 'koc_reader'\n",
    "password = 'koc_center'\n",
    "host = 'istahproduction.cd5d9wagzlzq.us-east-2.rds.amazonaws.com'\n",
    "port = '5432'\n",
    "\n",
    "\n",
    "conn = psycopg2.connect(\n",
    "    database=database,\n",
    "    user=username,\n",
    "    password=password,\n",
    "    host=host,\n",
    "    port=port\n",
    ")\n",
    "\n",
    "brand = 'Istahgrill'\n",
    "\n",
    "def get_utc(dt):\n",
    "    naive = datetime.datetime.strptime(dt, '%Y-%m-%d %H:%M:%S')\n",
    "    tz = pytz.timezone('Asia/Calcutta')\n",
    "    local_dt = tz.localize(naive, is_dst=None)\n",
    "    utc_dt = local_dt.astimezone(pytz.utc)\n",
    "    return utc_dt\n",
    "\n",
    "def getMeal(time):\n",
    "    if time.hour>=7 and time.hour<11:\n",
    "        return \"BF\"\n",
    "    elif time.hour>=11 and time.hour<15:\n",
    "        return \"L\"\n",
    "    elif time.hour>=15 and time.hour<19:\n",
    "        return \"S\"\n",
    "    elif time.hour>=19 and time.hour<22:\n",
    "        return \"D\"\n",
    "    else:\n",
    "        return \"LN\"\n",
    "\n",
    "query = '''\n",
    "    SELECT online_orders.type, online_orders.status, online_orders.bill, online_orders.gst, online_orders.number, online_orders.ordered_time, online_orders.discount, online_orders.order_type, online_orders.note, online_orders.online_customer_id, online_orders.area, online_orders.distance, \n",
    "    online_line_items.quantity, online_line_items.price, \n",
    "    variants.name as variant, \n",
    "    outlets.name as outlet_area, outlets.brand, \n",
    "    online_ratings.rating, online_ratings.issues, online_ratings.customer_comment, \n",
    "    online_customers.name as online_customer_name, online_customers.lat, online_customers.lng, online_customers.area as online_customer_area, \n",
    "    online_statuses.mfr_message, online_statuses.cancel_reason, online_statuses.payout_status\n",
    "    FROM online_orders \n",
    "    LEFT JOIN online_line_items ON online_orders.id = online_line_items.online_order_id \n",
    "    LEFT JOIN variants ON online_line_items.variant_id = variants.id \n",
    "    LEFT JOIN restaurants ON online_orders.restaurant_id = restaurants.id\n",
    "    LEFT JOIN outlets ON restaurants.outlet_id = outlets.id\n",
    "    LEFT JOIN online_ratings ON online_orders.id = online_ratings.online_order_id\n",
    "    LEFT JOIN online_customers ON online_orders.online_customer_id = online_customers.id\n",
    "    LEFT JOIN online_statuses ON online_orders.id = online_statuses.online_order_id \n",
    "    WHERE ordered_time BETWEEN '{}' AND '{}' AND outlets.brand = '{}'\n",
    "    '''.format(get_utc(start_time), get_utc(end_time), brand)\n",
    "\n",
    "data = pd.read_sql(query, con=conn)\n",
    "\n",
    "if len(data.index) != 0:\n",
    "    display('Finished fetching data for {} from {} to {}'.format(brand, start_time, end_time))\n",
    "    data['ordered_time'] = data['ordered_time'].dt.tz_localize('utc').dt.tz_convert('Asia/Calcutta').dt.tz_localize(None)\n",
    "    #data['placed_time'] = data['placed_time'].dt.tz_localize('utc').dt.tz_convert('Asia/Calcutta').dt.tz_localize(None)\n",
    "    #data['created_at'] = data['created_at'].dt.tz_localize('utc').dt.tz_convert('Asia/Calcutta').dt.tz_localize(None)\n",
    "    #data['updated_at'] = data['updated_at'].dt.tz_localize('utc').dt.tz_convert('Asia/Calcutta').dt.tz_localize(None)\n",
    "    data['meal_time'] =  data['ordered_time'].apply(getMeal)\n",
    "    data['issues_list'] = data['issues'].fillna('').apply(lambda x: x.split(', '))\n",
    "    issue_cols = data.columns\n",
    "    data = pd.DataFrame(data['issues_list'].values.tolist(), index=data.index).merge(data, left_index=True, right_index=True).melt(id_vars=issue_cols, value_name='issue').drop('variable', axis=1).dropna(subset=['issue'])\n",
    "    data = data.drop(['issues_list'], axis='columns')\n",
    "    data['shift'] = data['ordered_time'].apply(lambda x: 'M' if 8 <= x.hour <= 18 else 'E')\n",
    "else:\n",
    "    display('No matching entries found for {} from {} to {}'.format(brand, start_time, end_time))\n",
    "\n",
    "conn.close()\n",
    "\n",
    "\n"
   ]
  },
  {
   "cell_type": "code",
   "execution_count": null,
   "metadata": {},
   "outputs": [],
   "source": [
    "data[data['status'] == 'cancelled'].head()"
   ]
  },
  {
   "cell_type": "code",
   "execution_count": null,
   "metadata": {},
   "outputs": [],
   "source": [
    "data.status.unique()"
   ]
  },
  {
   "cell_type": "code",
   "execution_count": null,
   "metadata": {
    "nbpresent": {
     "id": "8a67ed79-f3b0-4a3a-aa77-4149143a3bca"
    }
   },
   "outputs": [],
   "source": [
    "orders = data[['brand', 'outlet_area', 'number', 'type', 'ordered_time', 'meal_time', 'shift', 'bill', 'discount', 'order_type', 'area', 'distance', 'lat', 'lng', 'rating', 'issues', 'customer_comment']].drop_duplicates()\n",
    "orders.head()\n",
    "\n"
   ]
  },
  {
   "cell_type": "code",
   "execution_count": null,
   "metadata": {
    "nbpresent": {
     "id": "06d6364f-3b86-4322-aa52-5a665ee59638"
    }
   },
   "outputs": [],
   "source": [
    "# Pivot for sales data\n",
    "print('Outlet wise sales breakdown'.upper())\n",
    "overall_sale = orders.groupby(['outlet_area', 'type', ])['bill'].sum().unstack(level=-1)\n",
    "overall_sale.loc[:,'Total'] = overall_sale.sum(axis='columns')\n",
    "overall_sale.loc['Total',:] = overall_sale.sum(axis='index')\n",
    "overall_sale\n",
    "\n"
   ]
  },
  {
   "cell_type": "code",
   "execution_count": null,
   "metadata": {
    "nbpresent": {
     "id": "9331c6c1-b9ff-40b0-b9b4-94f60e27f38e"
    }
   },
   "outputs": [],
   "source": [
    "print('Outlet + Meal wise sale breakdown'.upper())\n",
    "\n",
    "sale_by_meal = orders.groupby(['outlet_area', 'meal_time'])['bill'].sum().unstack(level=-1).fillna(0).loc[:,['LN','BF','L','S','D']]\n",
    "sale_by_meal.loc['Total', :] = sale_by_meal.sum(axis='index')\n",
    "sale_by_meal\n"
   ]
  },
  {
   "cell_type": "code",
   "execution_count": null,
   "metadata": {
    "nbpresent": {
     "id": "d49efe9e-93a8-4345-8b6b-fc81fe404108"
    }
   },
   "outputs": [],
   "source": [
    "print('Discount by outlet + platform')\n",
    "orders.groupby(['outlet_area', 'type'])['discount'].sum().unstack(level=-1)\n",
    "\n",
    "\n"
   ]
  },
  {
   "cell_type": "code",
   "execution_count": null,
   "metadata": {},
   "outputs": [],
   "source": [
    "print('AOV')\n",
    "daily_sale = orders.groupby(['outlet_area', 'meal_time'])['bill'].sum().unstack(level=-1)\n",
    "daily_orders = orders.groupby(['outlet_area', 'meal_time'])['number'].nunique().unstack(level=-1)\n",
    "\n",
    "round(daily_sale.div(daily_orders, axis='index')[['LN','BF','L','S','D']])\n"
   ]
  },
  {
   "cell_type": "code",
   "execution_count": null,
   "metadata": {
    "nbpresent": {
     "id": "4f74417d-6f27-4c5f-87b8-90df7abdd6ab"
    }
   },
   "outputs": [],
   "source": [
    "\n",
    "# Split items to entities and melt the entities to single rows\n",
    "online_orders_df = sales_data.copy()\n",
    "online_orders_df['Entity List'] = online_orders_df['Items'].fillna('').apply(lambda x:x.split('; '))\n",
    "cols = online_orders_df.columns\n",
    "online_orders_df = pd.DataFrame(online_orders_df['Entity List'].values.tolist(), index=online_orders_df.index).merge(online_orders_df, left_index=True, right_index=True).melt(id_vars=cols, value_name='Entity').drop('variable', axis=1).dropna(subset=['Entity'])\n",
    "\n",
    "# Function to split an entity into Name, Quantity & Price\n",
    "def split_entity(entity):\n",
    "    i = entity.rfind('-')\n",
    "    entity = entity[:i] + 'x' + entity[i+1:]\n",
    "    split = entity.split(' x ')\n",
    "    return split\n",
    "\n",
    "# Get online orders with \n",
    "online_orders_df['Entity Split'] = online_orders_df['Entity'].fillna('').apply(split_entity)\n",
    "entity_split_online_orders_df = pd.DataFrame(online_orders_df['Entity Split'].values.tolist(), index=online_orders_df.index)\n",
    "entity_split_online_orders_df = entity_split_online_orders_df[[0,1,2]].rename(columns={0:'Name', 1:'Quantity', 2:'Cart Price'})\n",
    "entity_split_online_orders_df = entity_split_online_orders_df['Cart Price'].fillna('').apply(lambda x: x.split(' (')[0])\n",
    "\n",
    "\n",
    "# Zomato order addons do not have quantity. So initialise them to 1.0\n",
    "entity_split_online_orders_df.loc[entity_split_online_orders_df['Quantity'] == '', 'Quantity'] = 1.0\n",
    "entity_split_online_orders_df[['Quantity', 'Cart Price']] = entity_split_online_orders_df[['Quantity', 'Cart Price']].apply(pd.to_numeric)\n",
    "\n",
    "# Merge entities with online orders\n",
    "online_orders_df = online_orders_df.merge(entity_split_online_orders_df, left_index=True, right_index=True)\n",
    "online_orders_df = online_orders_df.drop(['Entity List', 'Entity', 'Entity Split'], axis=1)\n",
    "online_orders_df = online_orders_df.merge(item_mapping_df, how='left', on='Name')\n",
    "\n",
    "# Save sales with items to csv\n",
    "online_orders_df.to_csv(sales_filename, index=False)\n",
    "\n"
   ]
  },
  {
   "cell_type": "code",
   "execution_count": null,
   "metadata": {},
   "outputs": [],
   "source": [
    "data.columns"
   ]
  },
  {
   "cell_type": "code",
   "execution_count": null,
   "metadata": {},
   "outputs": [],
   "source": [
    "online_orders_df = data.merge(item_mapping_df, how='left', left_on='variant', right_on='Name')"
   ]
  },
  {
   "cell_type": "code",
   "execution_count": null,
   "metadata": {},
   "outputs": [],
   "source": [
    "online_orders_df.head()"
   ]
  },
  {
   "cell_type": "code",
   "execution_count": null,
   "metadata": {
    "nbpresent": {
     "id": "2eb4f800-6b9a-4552-a1e0-d4ebc9aebe15"
    }
   },
   "outputs": [],
   "source": [
    "# Items in mapping but not in recipe\n",
    "print('Items in mapping but not in recipe'.upper())\n",
    "items_not_in_recipe = item_mapping_df['Item'][(~item_mapping_df['Item'].isin(recipe_df.index)) & (item_mapping_df['Menu Item'] == True)].unique().tolist()\n",
    "items_not_in_recipe\n",
    "\n"
   ]
  },
  {
   "cell_type": "code",
   "execution_count": null,
   "metadata": {
    "nbpresent": {
     "id": "c07076ec-76a7-4b8a-afca-60aa8e950a4f"
    }
   },
   "outputs": [],
   "source": [
    "# Items not getting tracked by item mapping\n",
    "print('Items not getting tracked in the item mapping'.upper())\n",
    "items_not_getting_tracked = online_orders_df['Name'][(online_orders_df['Item'].isna()) & (online_orders_df['Menu Item'].isna())].unique().tolist()\n",
    "\n",
    "items_not_getting_tracked\n"
   ]
  },
  {
   "cell_type": "code",
   "execution_count": null,
   "metadata": {
    "nbpresent": {
     "id": "1d782387-d1a7-4e42-a7ac-b61558686174"
    }
   },
   "outputs": [],
   "source": [
    "# Filter orders by menu items\n",
    "online_orders_df = online_orders_df[online_orders_df['Menu Item'] == True]\n",
    "\n",
    "# Get consumption from orders pivot and recipe\n",
    "items_by_rest = online_orders_df.groupby(['outlet_area', 'Item'])['quantity'].sum().unstack(level=0).fillna(0)\n",
    "items_by_rest['Total'] = items_by_rest.sum(axis='columns')\n",
    "items_by_rest = items_by_rest.sort_values('Total', ascending=False)\n",
    "\n",
    "\n",
    "# Save item wise orders to csv\n",
    "items_by_rest.to_csv(orders_filename)\n",
    "items_by_rest\n",
    "\n",
    "\n"
   ]
  },
  {
   "cell_type": "code",
   "execution_count": null,
   "metadata": {
    "nbpresent": {
     "id": "afb78535-86e4-4c15-bdcd-0de57d078184"
    },
    "scrolled": true
   },
   "outputs": [],
   "source": [
    "items_to_track = recipe_df.index.intersection(items_by_rest.index)\n",
    "consumption_df =  items_by_rest.loc[items_to_track, :].transpose().dot(recipe_df.loc[items_to_track, :])\n",
    "\n",
    "# Save consumption to csv\n",
    "consumption_df.to_csv(consumption_filename)\n",
    "\n",
    "consumption_df"
   ]
  },
  {
   "cell_type": "code",
   "execution_count": null,
   "metadata": {
    "nbpresent": {
     "id": "bc8e78be-be2b-4a75-b560-5f4a46ddfb9e"
    }
   },
   "outputs": [],
   "source": [
    "print('Items by meal')\n",
    "\n",
    "items_by_meal = online_orders_df.groupby(['Item', 'Meal'])['Quantity'].sum().unstack(level=1).loc[:,['BF','L','S','D','LN1','LN2']]\n",
    "\n",
    "items_by_meal['Total'] = items_by_meal.sum(axis='columns')\n",
    "\n",
    "items_by_meal = items_by_meal.sort_values('Total', ascending=False)\n",
    "items_by_meal['Total %'] = round(items_by_meal['Total']*100/items_by_meal['Total'].sum())\n",
    "items_by_meal\n",
    "\n"
   ]
  },
  {
   "cell_type": "code",
   "execution_count": null,
   "metadata": {
    "nbpresent": {
     "id": "36000846-d948-4064-ba61-dccc9be58d7d"
    }
   },
   "outputs": [],
   "source": [
    "items_to_track = recipe_df.index.intersection(items_by_meal.index)\n",
    "consumption_by_meal =  items_by_meal.loc[items_to_track, :].transpose().fillna(0).dot(recipe_df.loc[items_to_track, :])\n",
    "\n",
    "# Save consumption to csv\n",
    "# consumption_df.to_csv(consumption_filename)\n",
    "\n",
    "consumption_by_meal = consumption_by_meal.transpose()\n",
    "consumption_by_meal.transpose()"
   ]
  },
  {
   "cell_type": "code",
   "execution_count": null,
   "metadata": {},
   "outputs": [],
   "source": []
  }
 ],
 "metadata": {
  "anaconda-cloud": {},
  "kernelspec": {
   "display_name": "Python 3",
   "language": "python",
   "name": "python3"
  },
  "language_info": {
   "codemirror_mode": {
    "name": "ipython",
    "version": 3
   },
   "file_extension": ".py",
   "mimetype": "text/x-python",
   "name": "python",
   "nbconvert_exporter": "python",
   "pygments_lexer": "ipython3",
   "version": "3.7.1"
  }
 },
 "nbformat": 4,
 "nbformat_minor": 2
}
